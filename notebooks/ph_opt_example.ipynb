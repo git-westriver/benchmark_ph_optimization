{
 "cells": [
  {
   "cell_type": "markdown",
   "metadata": {},
   "source": [
    "In this notebook, we show some examples of how to use the benchmark.\n",
    "You can also start trying the benchmark by just running `python scipts/ph_optimization.py`, \n",
    "which will run the benchmark with the default parameters.\n",
    "\n",
    "First of all, we need to add paths of the benchmarks."
   ]
  },
  {
   "cell_type": "code",
   "execution_count": 2,
   "metadata": {},
   "outputs": [],
   "source": [
    "import sys\n",
    "sys.path.append(\"..\")\n",
    "sys.path.append(\"../scripts\")"
   ]
  },
  {
   "cell_type": "markdown",
   "metadata": {},
   "source": [
    "## Table of Contents\n",
    "1. [How to specify the data](##How-to-specify-the-data)"
   ]
  },
  {
   "cell_type": "markdown",
   "metadata": {},
   "source": [
    "## How to specify the data\n",
    "\n",
    "First, let us generate the point cloud to be optimized.\n",
    "For convenience in later chapters, here, we define a function to generate the point cloud."
   ]
  },
  {
   "cell_type": "code",
   "execution_count": 13,
   "metadata": {},
   "outputs": [
    {
     "data": {
      "image/png": "[encoded data removed]",
      "text/plain": [
       "<Figure size 640x480 with 1 Axes>"
      ]
     },
     "metadata": {},
     "output_type": "display_data"
    }
   ],
   "source": [
    "import numpy as np\n",
    "import matplotlib.pyplot as plt\n",
    "\n",
    "\n",
    "def large_hole_and_small_hole(num_pts: int) -> np.ndarray:\n",
    "    small_num_pts, large_num_pts = num_pts//2, num_pts - num_pts//2\n",
    "    X_list = []\n",
    "    for k in range(1000):\n",
    "        theta = np.random.rand(small_num_pts) * 2 * np.pi\n",
    "        small = np.array([-1.5 + 0.5 * np.cos(theta), 0.5 * np.sin(theta)]).T\n",
    "        theta = np.random.rand(large_num_pts) * 2 * np.pi\n",
    "        large = np.array([+1.5 + 1.0 * np.cos(theta), 1.0 * np.sin(theta)]).T\n",
    "        X = np.concatenate([small, large], axis=0)\n",
    "        X_list.append(X)\n",
    "    data = np.stack(X_list, axis=0) + np.random.randn(1000, num_pts, 2) * 0.1\n",
    "    return data\n",
    "\n",
    "X = large_hole_and_small_hole(100)\n",
    "fig = plt.figure()\n",
    "ax = fig.add_subplot(1, 2, 1)\n",
    "ax.set_xlim(-3, 3); ax.set_ylim(-2, 2); ax.set_aspect('equal')\n",
    "ax.scatter(X[0, :, 0], X[0, :, 1])\n",
    "ax = fig.add_subplot(1, 2, 2)\n",
    "\n",
    "plt.show()"
   ]
  },
  {
   "cell_type": "markdown",
   "metadata": {},
   "source": [
    "## How to specify the persistent-based loss\n",
    "\n",
    "Next, we describe the way to design the persistent-based loss.\n",
    "When implementing the class that represents the loss, we need to be careful about the following points:\n",
    "- The class should inherit the `PersistenceBasedLoss` class in `scripts/persistence_based_loss.py`.\n",
    "- We have to implement the `__call__` method, which takes a point cloud and `RipsPH` object as input and returns the loss value.\n",
    "Moreover, the class need to have `get_rph` decorator.\n",
    "- We have to implement the `get_direction` method, which \n",
    "\n",
    "`RipsPH` is the class define in `scripts/lib/ph_computation_libirary.py`.\n",
    "The object of `RipsPH` class has the information of the persistent homology of the point cloud.\n",
    "Basically, the following two methods can be used to implement the loss function:\n",
    "- `get_barcode`: obtain barcode with the format of list, np.ndarray or torch.Tensor.\n",
    "- `get_differentiable_barcode`: obtain barcode with the format of differentiable torch.Tensor.\n",
    "- `get_bar_object_list`: obtain barcode as a list of `Bar` objects. Please refer to `scripts/lib/ph_compute_library.py` for the definition of `Bar` class.\n",
    "\n",
    "Now, we define our own loss function.\n",
    "We use wasserstein distance as the loss function here."
   ]
  },
  {
   "cell_type": "code",
   "execution_count": null,
   "metadata": {},
   "outputs": [],
   "source": [
    "from scripts.persistence_based_loss import PersistenceBasedLoss, get_rph\n",
    "from scripts.lib.ph_computation_library import Bar, RipsPH\n",
    "from gudhi.wasserstein import wasserstein_distance\n",
    "import torch\n",
    "from typing import Optional\n",
    "\n",
    "class WassersteinLoss(PersistenceBasedLoss):\n",
    "    \"\"\"\n",
    "    Loss to minimize the Wasserstein distance between the persistent diagram of the input and a desirable persistent diagram.\n",
    "\n",
    "    Parameters:\n",
    "        - dim_list(list[int]): list of dimensions of the persistent homology.\n",
    "        - desirable_pd(list[torch.Tensor]): the desirable persistent diagram. shape=(#bars, 2)\n",
    "    \"\"\"\n",
    "    def __init__(self, dim_list: list[int], desirable_pd: list[torch.Tensor], order=2):\n",
    "        super().__init__(dim_list)\n",
    "        self.desirable_pd = desirable_pd\n",
    "        self.order = order\n",
    "\n",
    "    @get_rph\n",
    "    def __call__(self, X: torch.Tensor, rph=Optional[RipsPH]) -> torch.Tensor:\n",
    "        loss = 0\n",
    "        for dim in self.dim_list:\n",
    "            barcode: torch.Tensor = rph.get_differentiable_barcode(dim)\n",
    "            loss += wasserstein_distance(barcode, self.desirable_pd[dim], order=self.order, enable_autodiff=True)\n",
    "        return loss\n",
    "    \n",
    "    @get_rph\n",
    "    def get_direction(self, X, rph=Optional[RipsPH]) -> list[tuple[int, list[Bar], torch.Tensor]]:\n",
    "        ret = []\n",
    "        for dim in self.dim_list:\n",
    "            bars_to_move, direction = [], []\n",
    "            bar_list = rph.get_bar_object_list(dim)\n",
    "            barcode = torch.tensor([[bar.birth, bar.death] for bar in bar_list])\n",
    "            _, matching = wasserstein_distance(barcode, self.desirable_pd[dim], order=self.order, matching=True)\n",
    "            for i, j in matching:\n",
    "                if i == -1:\n",
    "                    continue\n",
    "                elif j == -1:\n",
    "                    bars_to_move.append(bar_list[i])\n",
    "                    diff = barcode[i, 1] - barcode[i, 0]\n",
    "                    direction.append(diff * torch.tensor([0.5, -0.5]))\n",
    "                else:\n",
    "                    bars_to_move.append(bar_list[i])\n",
    "                    direction.append(self.desirable_pd[dim][j] - barcode[i])\n",
    "            ret.append((dim, bars_to_move, torch.stack(direction, dim=0)))\n",
    "        return ret"
   ]
  },
  {
   "cell_type": "markdown",
   "metadata": {},
   "source": []
  },
  {
   "cell_type": "markdown",
   "metadata": {},
   "source": [
    "## How to use `scripts/ph_optimization.py`\n",
    "\n",
    "The most basic use of this file is to call the function `ph_opt_main` with specifying the following parameters in OptConfig.\n",
    "- `exp_name`: The name of the experiment. This will be used to the filename when saving the results.\n",
    "- `method`: The method you use for the optimization.\n",
    "- `lr`: The learning rate of the optimization.\n",
    "- `num_epoch`: The number of epochs in the optimization."
   ]
  },
  {
   "cell_type": "code",
   "execution_count": null,
   "metadata": {},
   "outputs": [],
   "source": [
    "from scripts.ph_optimization import ph_opt_main, OptConfig\n",
    "print(sys.argv)\n",
    "# The following is almost same as `scripts/ph_optimization.py`\n",
    "method_list = [\"gd\", \"continuation\", \"bigstep\"]\n",
    "for method in method_list:\n",
    "    config = OptConfig(exp_name=f\"{method}\", method=method, lr=0.1, num_epoch=100)\n",
    "    ph_opt_main(config)"
   ]
  },
  {
   "cell_type": "code",
   "execution_count": null,
   "metadata": {},
   "outputs": [],
   "source": []
  },
  {
   "cell_type": "markdown",
   "metadata": {},
   "source": [
    "## Continuation as a method to track the point cloud along the path of PD"
   ]
  },
  {
   "cell_type": "markdown",
   "metadata": {},
   "source": []
  }
 ],
 "metadata": {
  "kernelspec": {
   "display_name": "normal_cpp",
   "language": "python",
   "name": "python3"
  },
  "language_info": {
   "codemirror_mode": {
    "name": "ipython",
    "version": 3
   },
   "file_extension": ".py",
   "mimetype": "text/x-python",
   "name": "python",
   "nbconvert_exporter": "python",
   "pygments_lexer": "ipython3",
   "version": "3.9.13"
  }
 },
 "nbformat": 4,
 "nbformat_minor": 2
}
